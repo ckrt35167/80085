{
 "cells": [
  {
   "cell_type": "code",
   "execution_count": 1,
   "metadata": {},
   "outputs": [],
   "source": [
    "import pandas as pd"
   ]
  },
  {
   "cell_type": "code",
   "execution_count": 3,
   "metadata": {},
   "outputs": [],
   "source": [
    "data=pd.read_csv(r\"C:\\Users\\CNX\\Desktop\\ML LAB\\training_data.csv\")"
   ]
  },
  {
   "cell_type": "code",
   "execution_count": 4,
   "metadata": {},
   "outputs": [
    {
     "data": {
      "text/html": [
       "<div>\n",
       "<style scoped>\n",
       "    .dataframe tbody tr th:only-of-type {\n",
       "        vertical-align: middle;\n",
       "    }\n",
       "\n",
       "    .dataframe tbody tr th {\n",
       "        vertical-align: top;\n",
       "    }\n",
       "\n",
       "    .dataframe thead th {\n",
       "        text-align: right;\n",
       "    }\n",
       "</style>\n",
       "<table border=\"1\" class=\"dataframe\">\n",
       "  <thead>\n",
       "    <tr style=\"text-align: right;\">\n",
       "      <th></th>\n",
       "      <th>Experience</th>\n",
       "      <th>Qualification</th>\n",
       "      <th>Skill</th>\n",
       "      <th>Age</th>\n",
       "      <th>Hired</th>\n",
       "    </tr>\n",
       "  </thead>\n",
       "  <tbody>\n",
       "    <tr>\n",
       "      <th>0</th>\n",
       "      <td>Yes</td>\n",
       "      <td>Masters</td>\n",
       "      <td>Python</td>\n",
       "      <td>30</td>\n",
       "      <td>Yes</td>\n",
       "    </tr>\n",
       "    <tr>\n",
       "      <th>1</th>\n",
       "      <td>Yes</td>\n",
       "      <td>Bachelors</td>\n",
       "      <td>Python</td>\n",
       "      <td>25</td>\n",
       "      <td>Yes</td>\n",
       "    </tr>\n",
       "    <tr>\n",
       "      <th>2</th>\n",
       "      <td>No</td>\n",
       "      <td>Bachelors</td>\n",
       "      <td>Java</td>\n",
       "      <td>28</td>\n",
       "      <td>No</td>\n",
       "    </tr>\n",
       "    <tr>\n",
       "      <th>3</th>\n",
       "      <td>Yes</td>\n",
       "      <td>Masters</td>\n",
       "      <td>Java</td>\n",
       "      <td>40</td>\n",
       "      <td>Yes</td>\n",
       "    </tr>\n",
       "    <tr>\n",
       "      <th>4</th>\n",
       "      <td>No</td>\n",
       "      <td>Masters</td>\n",
       "      <td>Python</td>\n",
       "      <td>35</td>\n",
       "      <td>No</td>\n",
       "    </tr>\n",
       "  </tbody>\n",
       "</table>\n",
       "</div>"
      ],
      "text/plain": [
       "  Experience Qualification   Skill  Age Hired\n",
       "0        Yes       Masters  Python   30   Yes\n",
       "1        Yes     Bachelors  Python   25   Yes\n",
       "2         No     Bachelors    Java   28    No\n",
       "3        Yes       Masters    Java   40   Yes\n",
       "4         No       Masters  Python   35    No"
      ]
     },
     "execution_count": 4,
     "metadata": {},
     "output_type": "execute_result"
    }
   ],
   "source": [
    "data"
   ]
  },
  {
   "cell_type": "code",
   "execution_count": 8,
   "metadata": {},
   "outputs": [],
   "source": [
    "def find_s_algorithm(data):\n",
    "    \"\"\"Implements the Find-S algorithm to find the most specific hypothesis.\"\"\"\n",
    "    # Extract feature columns and target column\n",
    "    attributes = data.iloc[:, :-1].values  # All columns except last\n",
    "    target = data.iloc[:, -1].values  # Last column (class labels)\n",
    "    \n",
    "    # Step 1: Initialize hypothesis with first positive example\n",
    "    for i in range(len(target)):\n",
    "        if target[i] == \"Yes\":  # Consider only positive examples\n",
    "            hypothesis = attributes[i].copy()\n",
    "            break\n",
    "    \n",
    "    # Step 2: Update hypothesis based on other positive examples\n",
    "    for i in range(len(target)):\n",
    "        if target[i] == \"Yes\":\n",
    "            for j in range(len(hypothesis)):\n",
    "                if hypothesis[j] != attributes[i][j]:\n",
    "                    hypothesis[j] = '?'  # Generalize inconsistent attributes\n",
    "    \n",
    "    return hypothesis"
   ]
  },
  {
   "cell_type": "code",
   "execution_count": 9,
   "metadata": {},
   "outputs": [],
   "source": [
    "# Run Find-S Algorithm\n",
    "final_hypothesis = find_s_algorithm(data)"
   ]
  },
  {
   "cell_type": "code",
   "execution_count": 10,
   "metadata": {},
   "outputs": [
    {
     "name": "stdout",
     "output_type": "stream",
     "text": [
      "Most Specific Hypothesis: ['Yes' '?' '?' '?']\n"
     ]
    }
   ],
   "source": [
    "# Print the learned hypothesis\n",
    "print(\"Most Specific Hypothesis:\", final_hypothesis)"
   ]
  },
  {
   "cell_type": "code",
   "execution_count": null,
   "metadata": {},
   "outputs": [],
   "source": []
  }
 ],
 "metadata": {
  "kernelspec": {
   "display_name": "Python 3 (ipykernel)",
   "language": "python",
   "name": "python3"
  },
  "language_info": {
   "codemirror_mode": {
    "name": "ipython",
    "version": 3
   },
   "file_extension": ".py",
   "mimetype": "text/x-python",
   "name": "python",
   "nbconvert_exporter": "python",
   "pygments_lexer": "ipython3",
   "version": "3.12.7"
  }
 },
 "nbformat": 4,
 "nbformat_minor": 4
}
